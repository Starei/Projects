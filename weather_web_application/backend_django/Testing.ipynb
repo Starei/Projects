{
 "cells": [
  {
   "cell_type": "code",
   "execution_count": 2,
   "metadata": {},
   "outputs": [],
   "source": [
    "import json\n",
    "import io\n",
    "\n",
    "import pandas as pd\n",
    "import great_expectations as ge\n",
    "\n",
    "from datetime import datetime, timedelta\n",
    "from haversine import haversine\n",
    "from typing import Collection\n",
    "# from ml_part import data_workflow\n",
    "\n",
    "\n",
    "DATA_DIR = \"D:/Notebooks/Diplom/weather_web_app/data/\""
   ]
  },
  {
   "cell_type": "markdown",
   "metadata": {},
   "source": [
    "# Loading the data for testing"
   ]
  },
  {
   "cell_type": "code",
   "execution_count": 2,
   "metadata": {},
   "outputs": [
    {
     "name": "stdout",
     "output_type": "stream",
     "text": [
      "The nearest city is Brest -> 1.685 km\n",
      "********** Stations **********\n",
      "1. BOM00033008 -> 2.976 km\n",
      "2. BOM00033001 -> 36.849 km\n",
      "3. PLM00012497 -> 60.889 km\n",
      "The nearest station is 'BOM00033008'\n",
      "Total missing values: 8952\n",
      "Total missing dates: 1717\n",
      "Filling them using the other stations: BOM00033001, PLM00012497\n",
      "\n",
      "Station 'BOM00033001'\n",
      "Left missing values -> 8950\n",
      "Left missing dates -> 1717\n",
      "\n",
      "Station 'PLM00012497'\n",
      "Left missing values -> 1465\n",
      "Left missing dates -> 1712\n",
      "\n",
      "There were left 1465 missing values and 1712 missing dates. Now they will be filled data from ERA5 dataset"
     ]
    }
   ],
   "source": [
    "brest_coords = (52.09, 23.68)\n",
    "\n",
    "data_collection = data_workflow.DataCollection(brest_coords)\n",
    "brest_dataset = pd.read_csv(io.StringIO(data_collection._dataset)).iloc[:-1]\n",
    "brest_dataset.set_index('DATE', inplace=True)\n",
    "brest_dataset.to_csv(DATA_DIR + 'brest_init_df.csv')\n",
    "\n",
    "data_cleaning = data_workflow.DataCleaning(brest_dataset)\n",
    "brest_df = data_cleaning.get_cleaned_data().iloc[:-1]\n",
    "brest_df.to_csv(DATA_DIR + 'brest_filled_df.csv')\n",
    "\n",
    "latest_data = data_workflow.LatestData(brest_coords)\n",
    "brest_comb_df = latest_data.combined_dataset.iloc[:-1]\n",
    "brest_comb_df.to_csv(DATA_DIR + 'brest_comb_df.csv')"
   ]
  },
  {
   "cell_type": "code",
   "execution_count": 3,
   "metadata": {},
   "outputs": [
    {
     "data": {
      "text/html": [
       "<div>\n",
       "<style scoped>\n",
       "    .dataframe tbody tr th:only-of-type {\n",
       "        vertical-align: middle;\n",
       "    }\n",
       "\n",
       "    .dataframe tbody tr th {\n",
       "        vertical-align: top;\n",
       "    }\n",
       "\n",
       "    .dataframe thead th {\n",
       "        text-align: right;\n",
       "    }\n",
       "</style>\n",
       "<table border=\"1\" class=\"dataframe\">\n",
       "  <thead>\n",
       "    <tr style=\"text-align: right;\">\n",
       "      <th></th>\n",
       "      <th>precip_sum</th>\n",
       "      <th>temp_min</th>\n",
       "      <th>temp_max</th>\n",
       "      <th>100-500_north_precip_sum</th>\n",
       "      <th>100-500_north_temp_min</th>\n",
       "      <th>100-500_north_temp_max</th>\n",
       "      <th>100-500_south_precip_sum</th>\n",
       "      <th>100-500_south_temp_min</th>\n",
       "      <th>100-500_south_temp_max</th>\n",
       "      <th>100-500_west_precip_sum</th>\n",
       "      <th>...</th>\n",
       "      <th>500-1000_north_temp_max</th>\n",
       "      <th>500-1000_south_precip_sum</th>\n",
       "      <th>500-1000_south_temp_min</th>\n",
       "      <th>500-1000_south_temp_max</th>\n",
       "      <th>500-1000_west_precip_sum</th>\n",
       "      <th>500-1000_west_temp_min</th>\n",
       "      <th>500-1000_west_temp_max</th>\n",
       "      <th>500-1000_east_precip_sum</th>\n",
       "      <th>500-1000_east_temp_min</th>\n",
       "      <th>500-1000_east_temp_max</th>\n",
       "    </tr>\n",
       "    <tr>\n",
       "      <th>date</th>\n",
       "      <th></th>\n",
       "      <th></th>\n",
       "      <th></th>\n",
       "      <th></th>\n",
       "      <th></th>\n",
       "      <th></th>\n",
       "      <th></th>\n",
       "      <th></th>\n",
       "      <th></th>\n",
       "      <th></th>\n",
       "      <th></th>\n",
       "      <th></th>\n",
       "      <th></th>\n",
       "      <th></th>\n",
       "      <th></th>\n",
       "      <th></th>\n",
       "      <th></th>\n",
       "      <th></th>\n",
       "      <th></th>\n",
       "      <th></th>\n",
       "      <th></th>\n",
       "    </tr>\n",
       "  </thead>\n",
       "  <tbody>\n",
       "    <tr>\n",
       "      <th>2000-01-01</th>\n",
       "      <td>0.3</td>\n",
       "      <td>-6.2</td>\n",
       "      <td>-0.5</td>\n",
       "      <td>0.0</td>\n",
       "      <td>-6.4</td>\n",
       "      <td>-3.2</td>\n",
       "      <td>0.0</td>\n",
       "      <td>-9.9</td>\n",
       "      <td>-5.3</td>\n",
       "      <td>0.1</td>\n",
       "      <td>...</td>\n",
       "      <td>-6.8</td>\n",
       "      <td>1.4</td>\n",
       "      <td>1.3</td>\n",
       "      <td>5.0</td>\n",
       "      <td>1.9</td>\n",
       "      <td>-0.7</td>\n",
       "      <td>3.4</td>\n",
       "      <td>0.0</td>\n",
       "      <td>-7.5</td>\n",
       "      <td>-4.6</td>\n",
       "    </tr>\n",
       "    <tr>\n",
       "      <th>2000-01-02</th>\n",
       "      <td>0.0</td>\n",
       "      <td>-8.1</td>\n",
       "      <td>-3.0</td>\n",
       "      <td>0.0</td>\n",
       "      <td>-9.9</td>\n",
       "      <td>-4.5</td>\n",
       "      <td>0.0</td>\n",
       "      <td>-12.4</td>\n",
       "      <td>-3.4</td>\n",
       "      <td>0.0</td>\n",
       "      <td>...</td>\n",
       "      <td>-9.5</td>\n",
       "      <td>0.0</td>\n",
       "      <td>-2.5</td>\n",
       "      <td>5.1</td>\n",
       "      <td>0.0</td>\n",
       "      <td>2.2</td>\n",
       "      <td>3.6</td>\n",
       "      <td>0.0</td>\n",
       "      <td>-8.8</td>\n",
       "      <td>-6.3</td>\n",
       "    </tr>\n",
       "  </tbody>\n",
       "</table>\n",
       "<p>2 rows × 27 columns</p>\n",
       "</div>"
      ],
      "text/plain": [
       "            precip_sum  temp_min  temp_max  100-500_north_precip_sum  \\\n",
       "date                                                                   \n",
       "2000-01-01         0.3      -6.2      -0.5                       0.0   \n",
       "2000-01-02         0.0      -8.1      -3.0                       0.0   \n",
       "\n",
       "            100-500_north_temp_min  100-500_north_temp_max  \\\n",
       "date                                                         \n",
       "2000-01-01                    -6.4                    -3.2   \n",
       "2000-01-02                    -9.9                    -4.5   \n",
       "\n",
       "            100-500_south_precip_sum  100-500_south_temp_min  \\\n",
       "date                                                           \n",
       "2000-01-01                       0.0                    -9.9   \n",
       "2000-01-02                       0.0                   -12.4   \n",
       "\n",
       "            100-500_south_temp_max  100-500_west_precip_sum  ...  \\\n",
       "date                                                         ...   \n",
       "2000-01-01                    -5.3                      0.1  ...   \n",
       "2000-01-02                    -3.4                      0.0  ...   \n",
       "\n",
       "            500-1000_north_temp_max  500-1000_south_precip_sum  \\\n",
       "date                                                             \n",
       "2000-01-01                     -6.8                        1.4   \n",
       "2000-01-02                     -9.5                        0.0   \n",
       "\n",
       "            500-1000_south_temp_min  500-1000_south_temp_max  \\\n",
       "date                                                           \n",
       "2000-01-01                      1.3                      5.0   \n",
       "2000-01-02                     -2.5                      5.1   \n",
       "\n",
       "            500-1000_west_precip_sum  500-1000_west_temp_min  \\\n",
       "date                                                           \n",
       "2000-01-01                       1.9                    -0.7   \n",
       "2000-01-02                       0.0                     2.2   \n",
       "\n",
       "            500-1000_west_temp_max  500-1000_east_precip_sum  \\\n",
       "date                                                           \n",
       "2000-01-01                     3.4                       0.0   \n",
       "2000-01-02                     3.6                       0.0   \n",
       "\n",
       "            500-1000_east_temp_min  500-1000_east_temp_max  \n",
       "date                                                        \n",
       "2000-01-01                    -7.5                    -4.6  \n",
       "2000-01-02                    -8.8                    -6.3  \n",
       "\n",
       "[2 rows x 27 columns]"
      ]
     },
     "execution_count": 3,
     "metadata": {},
     "output_type": "execute_result"
    }
   ],
   "source": [
    "brest_comb_df.head(2)"
   ]
  },
  {
   "cell_type": "code",
   "execution_count": 4,
   "metadata": {},
   "outputs": [
    {
     "data": {
      "text/html": [
       "<div>\n",
       "<style scoped>\n",
       "    .dataframe tbody tr th:only-of-type {\n",
       "        vertical-align: middle;\n",
       "    }\n",
       "\n",
       "    .dataframe tbody tr th {\n",
       "        vertical-align: top;\n",
       "    }\n",
       "\n",
       "    .dataframe thead th {\n",
       "        text-align: right;\n",
       "    }\n",
       "</style>\n",
       "<table border=\"1\" class=\"dataframe\">\n",
       "  <thead>\n",
       "    <tr style=\"text-align: right;\">\n",
       "      <th></th>\n",
       "      <th>precip_sum</th>\n",
       "      <th>temp_max</th>\n",
       "      <th>temp_min</th>\n",
       "    </tr>\n",
       "    <tr>\n",
       "      <th>date</th>\n",
       "      <th></th>\n",
       "      <th></th>\n",
       "      <th></th>\n",
       "    </tr>\n",
       "  </thead>\n",
       "  <tbody>\n",
       "    <tr>\n",
       "      <th>1940-01-02</th>\n",
       "      <td>0.0</td>\n",
       "      <td>-12.6</td>\n",
       "      <td>-21.5</td>\n",
       "    </tr>\n",
       "    <tr>\n",
       "      <th>1940-01-03</th>\n",
       "      <td>2.3</td>\n",
       "      <td>-4.2</td>\n",
       "      <td>-18.3</td>\n",
       "    </tr>\n",
       "  </tbody>\n",
       "</table>\n",
       "</div>"
      ],
      "text/plain": [
       "            precip_sum  temp_max  temp_min\n",
       "date                                      \n",
       "1940-01-02         0.0     -12.6     -21.5\n",
       "1940-01-03         2.3      -4.2     -18.3"
      ]
     },
     "execution_count": 4,
     "metadata": {},
     "output_type": "execute_result"
    }
   ],
   "source": [
    "brest_df.head(2)"
   ]
  },
  {
   "cell_type": "markdown",
   "metadata": {},
   "source": [
    "# Great Expectations"
   ]
  },
  {
   "cell_type": "markdown",
   "metadata": {},
   "source": [
    "## Initial Brest data"
   ]
  },
  {
   "cell_type": "code",
   "execution_count": 13,
   "metadata": {},
   "outputs": [
    {
     "data": {
      "text/html": [
       "<div>\n",
       "<style scoped>\n",
       "    .dataframe tbody tr th:only-of-type {\n",
       "        vertical-align: middle;\n",
       "    }\n",
       "\n",
       "    .dataframe tbody tr th {\n",
       "        vertical-align: top;\n",
       "    }\n",
       "\n",
       "    .dataframe thead th {\n",
       "        text-align: right;\n",
       "    }\n",
       "</style>\n",
       "<table border=\"1\" class=\"dataframe\">\n",
       "  <thead>\n",
       "    <tr style=\"text-align: right;\">\n",
       "      <th></th>\n",
       "      <th>DATE</th>\n",
       "      <th>STATION</th>\n",
       "      <th>PRCP</th>\n",
       "      <th>TMAX</th>\n",
       "      <th>TMIN</th>\n",
       "    </tr>\n",
       "  </thead>\n",
       "  <tbody>\n",
       "    <tr>\n",
       "      <th>0</th>\n",
       "      <td>1944-09-01</td>\n",
       "      <td>BOM00033008</td>\n",
       "      <td>0.0</td>\n",
       "      <td>23.3</td>\n",
       "      <td>12.4</td>\n",
       "    </tr>\n",
       "    <tr>\n",
       "      <th>1</th>\n",
       "      <td>1944-09-02</td>\n",
       "      <td>BOM00033008</td>\n",
       "      <td>0.0</td>\n",
       "      <td>23.5</td>\n",
       "      <td>9.5</td>\n",
       "    </tr>\n",
       "    <tr>\n",
       "      <th>2</th>\n",
       "      <td>1944-09-03</td>\n",
       "      <td>BOM00033008</td>\n",
       "      <td>0.0</td>\n",
       "      <td>29.8</td>\n",
       "      <td>12.6</td>\n",
       "    </tr>\n",
       "    <tr>\n",
       "      <th>3</th>\n",
       "      <td>1944-09-04</td>\n",
       "      <td>BOM00033008</td>\n",
       "      <td>16.6</td>\n",
       "      <td>18.0</td>\n",
       "      <td>10.6</td>\n",
       "    </tr>\n",
       "    <tr>\n",
       "      <th>4</th>\n",
       "      <td>1944-09-05</td>\n",
       "      <td>BOM00033008</td>\n",
       "      <td>0.0</td>\n",
       "      <td>23.0</td>\n",
       "      <td>9.7</td>\n",
       "    </tr>\n",
       "  </tbody>\n",
       "</table>\n",
       "</div>"
      ],
      "text/plain": [
       "         DATE      STATION  PRCP  TMAX  TMIN\n",
       "0  1944-09-01  BOM00033008   0.0  23.3  12.4\n",
       "1  1944-09-02  BOM00033008   0.0  23.5   9.5\n",
       "2  1944-09-03  BOM00033008   0.0  29.8  12.6\n",
       "3  1944-09-04  BOM00033008  16.6  18.0  10.6\n",
       "4  1944-09-05  BOM00033008   0.0  23.0   9.7"
      ]
     },
     "execution_count": 13,
     "metadata": {},
     "output_type": "execute_result"
    }
   ],
   "source": [
    "brest_init = pd.read_csv(DATA_DIR + 'brest_init_df.csv')\n",
    "df = ge.dataset.PandasDataset(brest_init)\n",
    "df.head()"
   ]
  },
  {
   "cell_type": "code",
   "execution_count": 15,
   "metadata": {},
   "outputs": [
    {
     "data": {
      "text/plain": [
       "{\n",
       "  \"success\": true,\n",
       "  \"meta\": {},\n",
       "  \"exception_info\": {\n",
       "    \"raised_exception\": false,\n",
       "    \"exception_traceback\": null,\n",
       "    \"exception_message\": null\n",
       "  },\n",
       "  \"result\": {\n",
       "    \"observed_value\": [\n",
       "      \"DATE\",\n",
       "      \"STATION\",\n",
       "      \"PRCP\",\n",
       "      \"TMAX\",\n",
       "      \"TMIN\"\n",
       "    ]\n",
       "  }\n",
       "}"
      ]
     },
     "execution_count": 15,
     "metadata": {},
     "output_type": "execute_result"
    }
   ],
   "source": [
    "df.expect_table_columns_to_match_ordered_list(\n",
    "    column_list=['DATE', 'STATION', 'PRCP', 'TMAX', 'TMIN']\n",
    ")"
   ]
  },
  {
   "cell_type": "code",
   "execution_count": 16,
   "metadata": {},
   "outputs": [
    {
     "data": {
      "text/plain": [
       "{\n",
       "  \"success\": true,\n",
       "  \"meta\": {},\n",
       "  \"exception_info\": {\n",
       "    \"raised_exception\": false,\n",
       "    \"exception_traceback\": null,\n",
       "    \"exception_message\": null\n",
       "  },\n",
       "  \"result\": {\n",
       "    \"element_count\": 63091,\n",
       "    \"missing_count\": 0,\n",
       "    \"missing_percent\": 0.0,\n",
       "    \"unexpected_count\": 0,\n",
       "    \"unexpected_percent\": 0.0,\n",
       "    \"unexpected_percent_total\": 0.0,\n",
       "    \"unexpected_percent_nonmissing\": 0.0,\n",
       "    \"partial_unexpected_list\": []\n",
       "  }\n",
       "}"
      ]
     },
     "execution_count": 16,
     "metadata": {},
     "output_type": "execute_result"
    }
   ],
   "source": [
    "df.expect_compound_columns_to_be_unique(\n",
    "    column_list = ['DATE', 'STATION']\n",
    ")"
   ]
  },
  {
   "cell_type": "code",
   "execution_count": 18,
   "metadata": {},
   "outputs": [
    {
     "data": {
      "text/plain": [
       "True"
      ]
     },
     "execution_count": 18,
     "metadata": {},
     "output_type": "execute_result"
    }
   ],
   "source": [
    "df.expect_column_values_to_match_strftime_format(\n",
    "    column='DATE', strftime_format='%Y-%m-%d'\n",
    ").success"
   ]
  },
  {
   "cell_type": "code",
   "execution_count": 19,
   "metadata": {},
   "outputs": [
    {
     "data": {
      "text/plain": [
       "{\n",
       "  \"success\": true,\n",
       "  \"meta\": {},\n",
       "  \"exception_info\": {\n",
       "    \"raised_exception\": false,\n",
       "    \"exception_traceback\": null,\n",
       "    \"exception_message\": null\n",
       "  },\n",
       "  \"result\": {\n",
       "    \"element_count\": 63091,\n",
       "    \"missing_count\": 8899,\n",
       "    \"missing_percent\": 14.10502290342521,\n",
       "    \"unexpected_count\": 0,\n",
       "    \"unexpected_percent\": 0.0,\n",
       "    \"unexpected_percent_total\": 0.0,\n",
       "    \"unexpected_percent_nonmissing\": 0.0,\n",
       "    \"partial_unexpected_list\": []\n",
       "  }\n",
       "}"
      ]
     },
     "execution_count": 19,
     "metadata": {},
     "output_type": "execute_result"
    }
   ],
   "source": [
    "# Most rainfall in a day\n",
    "df.expect_column_values_to_be_between(\n",
    "    column='PRCP', min_value=0, max_value=2000\n",
    ")"
   ]
  },
  {
   "cell_type": "code",
   "execution_count": 21,
   "metadata": {},
   "outputs": [
    {
     "data": {
      "text/plain": [
       "{\n",
       "  \"success\": true,\n",
       "  \"meta\": {},\n",
       "  \"exception_info\": {\n",
       "    \"raised_exception\": false,\n",
       "    \"exception_traceback\": null,\n",
       "    \"exception_message\": null\n",
       "  },\n",
       "  \"result\": {\n",
       "    \"element_count\": 63091,\n",
       "    \"missing_count\": 21336,\n",
       "    \"missing_percent\": 33.817818706313105,\n",
       "    \"unexpected_count\": 0,\n",
       "    \"unexpected_percent\": 0.0,\n",
       "    \"unexpected_percent_total\": 0.0,\n",
       "    \"unexpected_percent_nonmissing\": 0.0,\n",
       "    \"partial_unexpected_list\": []\n",
       "  }\n",
       "}"
      ]
     },
     "execution_count": 21,
     "metadata": {},
     "output_type": "execute_result"
    }
   ],
   "source": [
    "df.expect_column_values_to_be_between(\n",
    "    column='TMAX', min_value=-89.2, max_value=56.7\n",
    ")"
   ]
  },
  {
   "cell_type": "code",
   "execution_count": 22,
   "metadata": {},
   "outputs": [
    {
     "data": {
      "text/plain": [
       "{\n",
       "  \"success\": true,\n",
       "  \"meta\": {},\n",
       "  \"exception_info\": {\n",
       "    \"raised_exception\": false,\n",
       "    \"exception_traceback\": null,\n",
       "    \"exception_message\": null\n",
       "  },\n",
       "  \"result\": {\n",
       "    \"element_count\": 63091,\n",
       "    \"missing_count\": 25284,\n",
       "    \"missing_percent\": 40.07544657716631,\n",
       "    \"unexpected_count\": 0,\n",
       "    \"unexpected_percent\": 0.0,\n",
       "    \"unexpected_percent_total\": 0.0,\n",
       "    \"unexpected_percent_nonmissing\": 0.0,\n",
       "    \"partial_unexpected_list\": []\n",
       "  }\n",
       "}"
      ]
     },
     "execution_count": 22,
     "metadata": {},
     "output_type": "execute_result"
    }
   ],
   "source": [
    "df.expect_column_values_to_be_between(\n",
    "    column='TMIN', min_value=-89.2, max_value=56.7\n",
    ")"
   ]
  },
  {
   "cell_type": "markdown",
   "metadata": {},
   "source": [
    "## Filled Brest data"
   ]
  },
  {
   "cell_type": "code",
   "execution_count": 23,
   "metadata": {},
   "outputs": [
    {
     "data": {
      "text/html": [
       "<div>\n",
       "<style scoped>\n",
       "    .dataframe tbody tr th:only-of-type {\n",
       "        vertical-align: middle;\n",
       "    }\n",
       "\n",
       "    .dataframe tbody tr th {\n",
       "        vertical-align: top;\n",
       "    }\n",
       "\n",
       "    .dataframe thead th {\n",
       "        text-align: right;\n",
       "    }\n",
       "</style>\n",
       "<table border=\"1\" class=\"dataframe\">\n",
       "  <thead>\n",
       "    <tr style=\"text-align: right;\">\n",
       "      <th></th>\n",
       "      <th>date</th>\n",
       "      <th>precip_sum</th>\n",
       "      <th>temp_max</th>\n",
       "      <th>temp_min</th>\n",
       "    </tr>\n",
       "  </thead>\n",
       "  <tbody>\n",
       "    <tr>\n",
       "      <th>0</th>\n",
       "      <td>1940-01-02</td>\n",
       "      <td>0.0</td>\n",
       "      <td>-12.6</td>\n",
       "      <td>-21.5</td>\n",
       "    </tr>\n",
       "    <tr>\n",
       "      <th>1</th>\n",
       "      <td>1940-01-03</td>\n",
       "      <td>2.3</td>\n",
       "      <td>-4.2</td>\n",
       "      <td>-18.3</td>\n",
       "    </tr>\n",
       "    <tr>\n",
       "      <th>2</th>\n",
       "      <td>1940-01-04</td>\n",
       "      <td>0.2</td>\n",
       "      <td>-4.2</td>\n",
       "      <td>-9.1</td>\n",
       "    </tr>\n",
       "    <tr>\n",
       "      <th>3</th>\n",
       "      <td>1940-01-05</td>\n",
       "      <td>0.0</td>\n",
       "      <td>-8.2</td>\n",
       "      <td>-13.0</td>\n",
       "    </tr>\n",
       "    <tr>\n",
       "      <th>4</th>\n",
       "      <td>1940-01-06</td>\n",
       "      <td>0.1</td>\n",
       "      <td>-5.4</td>\n",
       "      <td>-12.8</td>\n",
       "    </tr>\n",
       "  </tbody>\n",
       "</table>\n",
       "</div>"
      ],
      "text/plain": [
       "         date  precip_sum  temp_max  temp_min\n",
       "0  1940-01-02         0.0     -12.6     -21.5\n",
       "1  1940-01-03         2.3      -4.2     -18.3\n",
       "2  1940-01-04         0.2      -4.2      -9.1\n",
       "3  1940-01-05         0.0      -8.2     -13.0\n",
       "4  1940-01-06         0.1      -5.4     -12.8"
      ]
     },
     "execution_count": 23,
     "metadata": {},
     "output_type": "execute_result"
    }
   ],
   "source": [
    "brest_filled = pd.read_csv(DATA_DIR + 'brest_filled_df.csv')\n",
    "df2 = ge.dataset.PandasDataset(brest_filled)\n",
    "df2.head()"
   ]
  },
  {
   "cell_type": "code",
   "execution_count": 26,
   "metadata": {},
   "outputs": [
    {
     "data": {
      "text/plain": [
       "True"
      ]
     },
     "execution_count": 26,
     "metadata": {},
     "output_type": "execute_result"
    }
   ],
   "source": [
    "df2.expect_table_columns_to_match_ordered_list(\n",
    "    column_list=['date', 'precip_sum', 'temp_max', 'temp_min']\n",
    ").success"
   ]
  },
  {
   "cell_type": "code",
   "execution_count": 28,
   "metadata": {},
   "outputs": [
    {
     "data": {
      "text/plain": [
       "True"
      ]
     },
     "execution_count": 28,
     "metadata": {},
     "output_type": "execute_result"
    }
   ],
   "source": [
    "# It is because I should have done it for structured filled data.\n",
    "df2.expect_column_values_to_be_increasing(\n",
    "    column='date', parse_strings_as_datetimes=True\n",
    ").success"
   ]
  },
  {
   "cell_type": "code",
   "execution_count": 30,
   "metadata": {},
   "outputs": [
    {
     "data": {
      "text/plain": [
       "True"
      ]
     },
     "execution_count": 30,
     "metadata": {},
     "output_type": "execute_result"
    }
   ],
   "source": [
    "df2.expect_column_values_to_be_unique(\n",
    "    column='date'\n",
    ").success"
   ]
  },
  {
   "cell_type": "code",
   "execution_count": 31,
   "metadata": {},
   "outputs": [
    {
     "data": {
      "text/plain": [
       "True"
      ]
     },
     "execution_count": 31,
     "metadata": {},
     "output_type": "execute_result"
    }
   ],
   "source": [
    "df2.expect_column_values_to_not_be_null(\n",
    "    column='precip_sum'\n",
    ").success"
   ]
  },
  {
   "cell_type": "code",
   "execution_count": 32,
   "metadata": {},
   "outputs": [
    {
     "data": {
      "text/plain": [
       "True"
      ]
     },
     "execution_count": 32,
     "metadata": {},
     "output_type": "execute_result"
    }
   ],
   "source": [
    "df2.expect_column_values_to_not_be_null(\n",
    "    column='temp_max'\n",
    ").success"
   ]
  },
  {
   "cell_type": "code",
   "execution_count": 33,
   "metadata": {},
   "outputs": [
    {
     "data": {
      "text/plain": [
       "True"
      ]
     },
     "execution_count": 33,
     "metadata": {},
     "output_type": "execute_result"
    }
   ],
   "source": [
    "df2.expect_column_values_to_not_be_null(\n",
    "    column='temp_min'\n",
    ").success"
   ]
  },
  {
   "cell_type": "markdown",
   "metadata": {},
   "source": [
    "## Combined Brest data"
   ]
  },
  {
   "cell_type": "code",
   "execution_count": 34,
   "metadata": {},
   "outputs": [
    {
     "data": {
      "text/html": [
       "<div>\n",
       "<style scoped>\n",
       "    .dataframe tbody tr th:only-of-type {\n",
       "        vertical-align: middle;\n",
       "    }\n",
       "\n",
       "    .dataframe tbody tr th {\n",
       "        vertical-align: top;\n",
       "    }\n",
       "\n",
       "    .dataframe thead th {\n",
       "        text-align: right;\n",
       "    }\n",
       "</style>\n",
       "<table border=\"1\" class=\"dataframe\">\n",
       "  <thead>\n",
       "    <tr style=\"text-align: right;\">\n",
       "      <th></th>\n",
       "      <th>date</th>\n",
       "      <th>precip_sum</th>\n",
       "      <th>temp_min</th>\n",
       "      <th>temp_max</th>\n",
       "      <th>nearnorthprecip_sum</th>\n",
       "      <th>nearnorthtemp_min</th>\n",
       "      <th>nearnorthtemp_max</th>\n",
       "      <th>nearsouthprecip_sum</th>\n",
       "      <th>nearsouthtemp_min</th>\n",
       "      <th>nearsouthtemp_max</th>\n",
       "      <th>...</th>\n",
       "      <th>farnorthtemp_max</th>\n",
       "      <th>farsouthprecip_sum</th>\n",
       "      <th>farsouthtemp_min</th>\n",
       "      <th>farsouthtemp_max</th>\n",
       "      <th>farwestprecip_sum</th>\n",
       "      <th>farwesttemp_min</th>\n",
       "      <th>farwesttemp_max</th>\n",
       "      <th>fareastprecip_sum</th>\n",
       "      <th>fareasttemp_min</th>\n",
       "      <th>fareasttemp_max</th>\n",
       "    </tr>\n",
       "  </thead>\n",
       "  <tbody>\n",
       "    <tr>\n",
       "      <th>0</th>\n",
       "      <td>2000-01-01</td>\n",
       "      <td>0.3</td>\n",
       "      <td>-6.2</td>\n",
       "      <td>-0.5</td>\n",
       "      <td>0.0</td>\n",
       "      <td>-6.4</td>\n",
       "      <td>-3.2</td>\n",
       "      <td>0.0</td>\n",
       "      <td>-9.9</td>\n",
       "      <td>-5.3</td>\n",
       "      <td>...</td>\n",
       "      <td>-6.8</td>\n",
       "      <td>1.4</td>\n",
       "      <td>1.3</td>\n",
       "      <td>5.0</td>\n",
       "      <td>1.9</td>\n",
       "      <td>-0.7</td>\n",
       "      <td>3.4</td>\n",
       "      <td>0.0</td>\n",
       "      <td>-7.5</td>\n",
       "      <td>-4.6</td>\n",
       "    </tr>\n",
       "    <tr>\n",
       "      <th>1</th>\n",
       "      <td>2000-01-02</td>\n",
       "      <td>0.0</td>\n",
       "      <td>-8.1</td>\n",
       "      <td>-3.0</td>\n",
       "      <td>0.0</td>\n",
       "      <td>-9.9</td>\n",
       "      <td>-4.5</td>\n",
       "      <td>0.0</td>\n",
       "      <td>-12.4</td>\n",
       "      <td>-3.4</td>\n",
       "      <td>...</td>\n",
       "      <td>-9.5</td>\n",
       "      <td>0.0</td>\n",
       "      <td>-2.5</td>\n",
       "      <td>5.1</td>\n",
       "      <td>0.0</td>\n",
       "      <td>2.2</td>\n",
       "      <td>3.6</td>\n",
       "      <td>0.0</td>\n",
       "      <td>-8.8</td>\n",
       "      <td>-6.3</td>\n",
       "    </tr>\n",
       "    <tr>\n",
       "      <th>2</th>\n",
       "      <td>2000-01-03</td>\n",
       "      <td>0.7</td>\n",
       "      <td>-8.2</td>\n",
       "      <td>1.5</td>\n",
       "      <td>2.7</td>\n",
       "      <td>-5.6</td>\n",
       "      <td>0.4</td>\n",
       "      <td>1.6</td>\n",
       "      <td>-8.0</td>\n",
       "      <td>-1.5</td>\n",
       "      <td>...</td>\n",
       "      <td>-10.0</td>\n",
       "      <td>0.0</td>\n",
       "      <td>-4.6</td>\n",
       "      <td>-2.8</td>\n",
       "      <td>0.0</td>\n",
       "      <td>3.2</td>\n",
       "      <td>5.2</td>\n",
       "      <td>0.0</td>\n",
       "      <td>-10.8</td>\n",
       "      <td>-7.9</td>\n",
       "    </tr>\n",
       "    <tr>\n",
       "      <th>3</th>\n",
       "      <td>2000-01-04</td>\n",
       "      <td>2.4</td>\n",
       "      <td>0.6</td>\n",
       "      <td>2.0</td>\n",
       "      <td>2.1</td>\n",
       "      <td>-1.5</td>\n",
       "      <td>1.5</td>\n",
       "      <td>0.0</td>\n",
       "      <td>-2.6</td>\n",
       "      <td>0.3</td>\n",
       "      <td>...</td>\n",
       "      <td>-1.0</td>\n",
       "      <td>0.0</td>\n",
       "      <td>-4.8</td>\n",
       "      <td>-2.5</td>\n",
       "      <td>5.1</td>\n",
       "      <td>3.8</td>\n",
       "      <td>5.1</td>\n",
       "      <td>0.2</td>\n",
       "      <td>-7.6</td>\n",
       "      <td>-5.0</td>\n",
       "    </tr>\n",
       "    <tr>\n",
       "      <th>4</th>\n",
       "      <td>2000-01-05</td>\n",
       "      <td>4.3</td>\n",
       "      <td>0.3</td>\n",
       "      <td>2.9</td>\n",
       "      <td>0.0</td>\n",
       "      <td>-2.5</td>\n",
       "      <td>1.0</td>\n",
       "      <td>4.1</td>\n",
       "      <td>-0.3</td>\n",
       "      <td>0.6</td>\n",
       "      <td>...</td>\n",
       "      <td>0.4</td>\n",
       "      <td>0.0</td>\n",
       "      <td>-5.2</td>\n",
       "      <td>-2.6</td>\n",
       "      <td>1.0</td>\n",
       "      <td>0.2</td>\n",
       "      <td>6.4</td>\n",
       "      <td>1.6</td>\n",
       "      <td>-4.6</td>\n",
       "      <td>-0.7</td>\n",
       "    </tr>\n",
       "  </tbody>\n",
       "</table>\n",
       "<p>5 rows × 28 columns</p>\n",
       "</div>"
      ],
      "text/plain": [
       "         date  precip_sum  temp_min  temp_max  nearnorthprecip_sum  \\\n",
       "0  2000-01-01         0.3      -6.2      -0.5                  0.0   \n",
       "1  2000-01-02         0.0      -8.1      -3.0                  0.0   \n",
       "2  2000-01-03         0.7      -8.2       1.5                  2.7   \n",
       "3  2000-01-04         2.4       0.6       2.0                  2.1   \n",
       "4  2000-01-05         4.3       0.3       2.9                  0.0   \n",
       "\n",
       "   nearnorthtemp_min  nearnorthtemp_max  nearsouthprecip_sum  \\\n",
       "0               -6.4               -3.2                  0.0   \n",
       "1               -9.9               -4.5                  0.0   \n",
       "2               -5.6                0.4                  1.6   \n",
       "3               -1.5                1.5                  0.0   \n",
       "4               -2.5                1.0                  4.1   \n",
       "\n",
       "   nearsouthtemp_min  nearsouthtemp_max  ...  farnorthtemp_max  \\\n",
       "0               -9.9               -5.3  ...              -6.8   \n",
       "1              -12.4               -3.4  ...              -9.5   \n",
       "2               -8.0               -1.5  ...             -10.0   \n",
       "3               -2.6                0.3  ...              -1.0   \n",
       "4               -0.3                0.6  ...               0.4   \n",
       "\n",
       "   farsouthprecip_sum  farsouthtemp_min  farsouthtemp_max  farwestprecip_sum  \\\n",
       "0                 1.4               1.3               5.0                1.9   \n",
       "1                 0.0              -2.5               5.1                0.0   \n",
       "2                 0.0              -4.6              -2.8                0.0   \n",
       "3                 0.0              -4.8              -2.5                5.1   \n",
       "4                 0.0              -5.2              -2.6                1.0   \n",
       "\n",
       "   farwesttemp_min  farwesttemp_max  fareastprecip_sum  fareasttemp_min  \\\n",
       "0             -0.7              3.4                0.0             -7.5   \n",
       "1              2.2              3.6                0.0             -8.8   \n",
       "2              3.2              5.2                0.0            -10.8   \n",
       "3              3.8              5.1                0.2             -7.6   \n",
       "4              0.2              6.4                1.6             -4.6   \n",
       "\n",
       "   fareasttemp_max  \n",
       "0             -4.6  \n",
       "1             -6.3  \n",
       "2             -7.9  \n",
       "3             -5.0  \n",
       "4             -0.7  \n",
       "\n",
       "[5 rows x 28 columns]"
      ]
     },
     "execution_count": 34,
     "metadata": {},
     "output_type": "execute_result"
    }
   ],
   "source": [
    "brest_combined = pd.read_csv(DATA_DIR + 'brest_comb_df.csv')\n",
    "df3 = ge.dataset.PandasDataset(brest_combined)\n",
    "df3.head()"
   ]
  },
  {
   "cell_type": "code",
   "execution_count": 36,
   "metadata": {},
   "outputs": [
    {
     "data": {
      "text/plain": [
       "{\n",
       "  \"success\": true,\n",
       "  \"meta\": {},\n",
       "  \"exception_info\": {\n",
       "    \"raised_exception\": false,\n",
       "    \"exception_traceback\": null,\n",
       "    \"exception_message\": null\n",
       "  },\n",
       "  \"result\": {\n",
       "    \"observed_value\": 28\n",
       "  }\n",
       "}"
      ]
     },
     "execution_count": 36,
     "metadata": {},
     "output_type": "execute_result"
    }
   ],
   "source": [
    "df3.expect_table_column_count_to_be_between(\n",
    "    min_value=1+3, max_value=100\n",
    ")"
   ]
  },
  {
   "cell_type": "code",
   "execution_count": 40,
   "metadata": {},
   "outputs": [
    {
     "data": {
      "text/plain": [
       "{\n",
       "  \"success\": true,\n",
       "  \"meta\": {},\n",
       "  \"exception_info\": {\n",
       "    \"raised_exception\": false,\n",
       "    \"exception_traceback\": null,\n",
       "    \"exception_message\": null\n",
       "  },\n",
       "  \"result\": {\n",
       "    \"element_count\": 8594,\n",
       "    \"missing_count\": 0,\n",
       "    \"missing_percent\": 0.0,\n",
       "    \"unexpected_count\": 0,\n",
       "    \"unexpected_percent\": 0.0,\n",
       "    \"unexpected_percent_total\": 0.0,\n",
       "    \"unexpected_percent_nonmissing\": 0.0,\n",
       "    \"partial_unexpected_list\": []\n",
       "  }\n",
       "}"
      ]
     },
     "execution_count": 40,
     "metadata": {},
     "output_type": "execute_result"
    }
   ],
   "source": [
    "df3.expect_column_values_to_be_increasing(\n",
    "    column='date', parse_strings_as_datetimes=True\n",
    ")"
   ]
  },
  {
   "cell_type": "code",
   "execution_count": 41,
   "metadata": {},
   "outputs": [
    {
     "data": {
      "text/plain": [
       "{\n",
       "  \"success\": true,\n",
       "  \"meta\": {},\n",
       "  \"exception_info\": {\n",
       "    \"raised_exception\": false,\n",
       "    \"exception_traceback\": null,\n",
       "    \"exception_message\": null\n",
       "  },\n",
       "  \"result\": {\n",
       "    \"element_count\": 8594,\n",
       "    \"missing_count\": 0,\n",
       "    \"missing_percent\": 0.0,\n",
       "    \"unexpected_count\": 0,\n",
       "    \"unexpected_percent\": 0.0,\n",
       "    \"unexpected_percent_total\": 0.0,\n",
       "    \"unexpected_percent_nonmissing\": 0.0,\n",
       "    \"partial_unexpected_list\": []\n",
       "  }\n",
       "}"
      ]
     },
     "execution_count": 41,
     "metadata": {},
     "output_type": "execute_result"
    }
   ],
   "source": [
    "df3.expect_column_values_to_be_unique(\n",
    "    column='date'\n",
    ")"
   ]
  },
  {
   "cell_type": "code",
   "execution_count": 39,
   "metadata": {},
   "outputs": [],
   "source": []
  },
  {
   "cell_type": "markdown",
   "metadata": {},
   "source": [
    "# Django application"
   ]
  },
  {
   "cell_type": "code",
   "execution_count": 1,
   "metadata": {},
   "outputs": [],
   "source": [
    "import os\n",
    "import django\n",
    "import pandas as pd\n",
    "from datetime import datetime, timedelta\n",
    "\n",
    "os.environ.setdefault('DJANGO_SETTINGS_MODULE', 'backend_django.settings')\n",
    "os.environ[\"DJANGO_ALLOW_ASYNC_UNSAFE\"] = \"true\"\n",
    "django.setup()\n",
    "\n",
    "from test_app.ml_part.data_workflow import (\n",
    "    NOAAService, NOAACleaning, ERA5Service\n",
    ")"
   ]
  },
  {
   "cell_type": "markdown",
   "metadata": {},
   "source": [
    "## NOAAService"
   ]
  },
  {
   "cell_type": "code",
   "execution_count": 2,
   "metadata": {},
   "outputs": [
    {
     "name": "stdout",
     "output_type": "stream",
     "text": [
      "{'TMAX': 'Maximum temperature', 'TMIN': 'Minimum temperature', 'PRCP': 'Precipitation', 'RHAV': 'Average relative humidity', 'ASTP': 'Average Station Level Pressure', 'ACSC': 'Average cloudiness sunrise to sunset from 30-secondceilometer data (percent)', 'AWDR': 'Average daily wind direction (degrees)', 'AWND': 'Average daily wind speed (tenths of meters per second)'}\n"
     ]
    }
   ],
   "source": [
    "NOAAService.show_available_data_types()"
   ]
  },
  {
   "cell_type": "code",
   "execution_count": 18,
   "metadata": {},
   "outputs": [
    {
     "name": "stdout",
     "output_type": "stream",
     "text": [
      "ValueError: Latitude (the first value in 'loc_coords') must bein the range of [-90, 90]\n"
     ]
    }
   ],
   "source": [
    "try:\n",
    "    NOAAService(loc_coords=(-100, 90))\n",
    "except BaseException as be:\n",
    "    print(be.__class__.__name__ + ':', be.args[0])"
   ]
  },
  {
   "cell_type": "code",
   "execution_count": 3,
   "metadata": {},
   "outputs": [],
   "source": [
    "loc_coords = (52.08, 23.40)\n",
    "brest_noaa_service = NOAAService(loc_coords, start_date='2020-01-01')"
   ]
  },
  {
   "cell_type": "code",
   "execution_count": 6,
   "metadata": {},
   "outputs": [
    {
     "name": "stdout",
     "output_type": "stream",
     "text": [
      "The nearest city is Brest -> 17.562 km\n",
      "********** Stations **********\n",
      "1. BOM00033008 -> 19.764 km\n",
      "2. BOM00033001 -> 31.934 km\n",
      "3. PLM00012497 -> 59.638 km\n"
     ]
    },
    {
     "data": {
      "text/plain": [
       "['BOM00033008', 'BOM00033001', 'PLM00012497']"
      ]
     },
     "execution_count": 6,
     "metadata": {},
     "output_type": "execute_result"
    }
   ],
   "source": [
    "brest_noaa_service.get_nearest_stations()"
   ]
  },
  {
   "cell_type": "code",
   "execution_count": 3,
   "metadata": {},
   "outputs": [
    {
     "name": "stdout",
     "output_type": "stream",
     "text": [
      "The nearest city is Brest -> 17.562 km\n",
      "********** Stations **********\n",
      "1. BOM00033008 -> 19.764 km\n",
      "2. BOM00033001 -> 31.934 km\n",
      "3. PLM00012497 -> 59.638 km\n",
      "Station(-s) {'BOM00033001'}\n",
      "do(-es) not have the data for this date range.\n"
     ]
    },
    {
     "data": {
      "text/html": [
       "<div>\n",
       "<style scoped>\n",
       "    .dataframe tbody tr th:only-of-type {\n",
       "        vertical-align: middle;\n",
       "    }\n",
       "\n",
       "    .dataframe tbody tr th {\n",
       "        vertical-align: top;\n",
       "    }\n",
       "\n",
       "    .dataframe thead th {\n",
       "        text-align: right;\n",
       "    }\n",
       "</style>\n",
       "<table border=\"1\" class=\"dataframe\">\n",
       "  <thead>\n",
       "    <tr style=\"text-align: right;\">\n",
       "      <th></th>\n",
       "      <th>STATION</th>\n",
       "      <th>DATE</th>\n",
       "      <th>PRCP</th>\n",
       "      <th>TMAX</th>\n",
       "      <th>TMIN</th>\n",
       "    </tr>\n",
       "  </thead>\n",
       "  <tbody>\n",
       "    <tr>\n",
       "      <th>0</th>\n",
       "      <td>BOM00033008</td>\n",
       "      <td>2020-01-01</td>\n",
       "      <td>NaN</td>\n",
       "      <td>NaN</td>\n",
       "      <td>NaN</td>\n",
       "    </tr>\n",
       "    <tr>\n",
       "      <th>1</th>\n",
       "      <td>BOM00033008</td>\n",
       "      <td>2020-01-02</td>\n",
       "      <td>NaN</td>\n",
       "      <td>2.8</td>\n",
       "      <td>NaN</td>\n",
       "    </tr>\n",
       "    <tr>\n",
       "      <th>2</th>\n",
       "      <td>BOM00033008</td>\n",
       "      <td>2020-01-03</td>\n",
       "      <td>NaN</td>\n",
       "      <td>NaN</td>\n",
       "      <td>NaN</td>\n",
       "    </tr>\n",
       "    <tr>\n",
       "      <th>3</th>\n",
       "      <td>BOM00033008</td>\n",
       "      <td>2020-01-04</td>\n",
       "      <td>0.0</td>\n",
       "      <td>4.1</td>\n",
       "      <td>0.0</td>\n",
       "    </tr>\n",
       "    <tr>\n",
       "      <th>4</th>\n",
       "      <td>BOM00033008</td>\n",
       "      <td>2020-01-05</td>\n",
       "      <td>NaN</td>\n",
       "      <td>NaN</td>\n",
       "      <td>NaN</td>\n",
       "    </tr>\n",
       "    <tr>\n",
       "      <th>...</th>\n",
       "      <td>...</td>\n",
       "      <td>...</td>\n",
       "      <td>...</td>\n",
       "      <td>...</td>\n",
       "      <td>...</td>\n",
       "    </tr>\n",
       "    <tr>\n",
       "      <th>2570</th>\n",
       "      <td>PLM00012497</td>\n",
       "      <td>2023-07-10</td>\n",
       "      <td>0.0</td>\n",
       "      <td>26.4</td>\n",
       "      <td>10.9</td>\n",
       "    </tr>\n",
       "    <tr>\n",
       "      <th>2571</th>\n",
       "      <td>PLM00012497</td>\n",
       "      <td>2023-07-11</td>\n",
       "      <td>1.0</td>\n",
       "      <td>24.9</td>\n",
       "      <td>11.9</td>\n",
       "    </tr>\n",
       "    <tr>\n",
       "      <th>2572</th>\n",
       "      <td>PLM00012497</td>\n",
       "      <td>2023-07-12</td>\n",
       "      <td>0.0</td>\n",
       "      <td>29.1</td>\n",
       "      <td>11.1</td>\n",
       "    </tr>\n",
       "    <tr>\n",
       "      <th>2573</th>\n",
       "      <td>PLM00012497</td>\n",
       "      <td>2023-07-13</td>\n",
       "      <td>0.0</td>\n",
       "      <td>26.3</td>\n",
       "      <td>NaN</td>\n",
       "    </tr>\n",
       "    <tr>\n",
       "      <th>2574</th>\n",
       "      <td>PLM00012497</td>\n",
       "      <td>2023-07-14</td>\n",
       "      <td>3.6</td>\n",
       "      <td>26.2</td>\n",
       "      <td>NaN</td>\n",
       "    </tr>\n",
       "  </tbody>\n",
       "</table>\n",
       "<p>2575 rows × 5 columns</p>\n",
       "</div>"
      ],
      "text/plain": [
       "          STATION        DATE  PRCP  TMAX  TMIN\n",
       "0     BOM00033008  2020-01-01   NaN   NaN   NaN\n",
       "1     BOM00033008  2020-01-02   NaN   2.8   NaN\n",
       "2     BOM00033008  2020-01-03   NaN   NaN   NaN\n",
       "3     BOM00033008  2020-01-04   0.0   4.1   0.0\n",
       "4     BOM00033008  2020-01-05   NaN   NaN   NaN\n",
       "...           ...         ...   ...   ...   ...\n",
       "2570  PLM00012497  2023-07-10   0.0  26.4  10.9\n",
       "2571  PLM00012497  2023-07-11   1.0  24.9  11.9\n",
       "2572  PLM00012497  2023-07-12   0.0  29.1  11.1\n",
       "2573  PLM00012497  2023-07-13   0.0  26.3   NaN\n",
       "2574  PLM00012497  2023-07-14   3.6  26.2   NaN\n",
       "\n",
       "[2575 rows x 5 columns]"
      ]
     },
     "execution_count": 3,
     "metadata": {},
     "output_type": "execute_result"
    }
   ],
   "source": [
    "brest_noaa_service.get_noaa_data()"
   ]
  },
  {
   "cell_type": "markdown",
   "metadata": {},
   "source": [
    "## NOAACleaning"
   ]
  },
  {
   "cell_type": "code",
   "execution_count": 4,
   "metadata": {},
   "outputs": [
    {
     "data": {
      "text/plain": [
       "(52.1167, 23.6831)"
      ]
     },
     "execution_count": 4,
     "metadata": {},
     "output_type": "execute_result"
    }
   ],
   "source": [
    "NOAACleaning.get_station_coords(station_id='BOM00033008')"
   ]
  },
  {
   "cell_type": "code",
   "execution_count": 4,
   "metadata": {},
   "outputs": [
    {
     "name": "stdout",
     "output_type": "stream",
     "text": [
      "The nearest city is Brest -> 17.562 km\n",
      "********** Stations **********\n",
      "1. BOM00033008 -> 19.764 km\n",
      "2. BOM00033001 -> 31.934 km\n",
      "3. PLM00012497 -> 59.638 km\n",
      "\n",
      "Station(-s) {'BOM00033001'}\n",
      " do(-es) not have the data for this date range.\n"
     ]
    }
   ],
   "source": [
    "brest_noaa_cleaning = NOAACleaning(\n",
    "    brest_noaa_service.get_noaa_data()\n",
    ")"
   ]
  },
  {
   "cell_type": "code",
   "execution_count": 4,
   "metadata": {},
   "outputs": [
    {
     "name": "stdout",
     "output_type": "stream",
     "text": [
      "The nearest station is 'BOM00033008'\n",
      "Total missing values: 1833\n",
      "Total missing days: 5\n",
      "Filling them using the other stations: PLM00012497\n",
      "\n"
     ]
    },
    {
     "name": "stdout",
     "output_type": "stream",
     "text": [
      "Station 'PLM00012497'\n",
      "Left missing values -> 297\n",
      "Left missing days -> 2\n",
      "\n",
      "There were left 297 missing values and 2 missing days. \n",
      "Now they will be filled data from ERA5 dataset"
     ]
    },
    {
     "data": {
      "text/html": [
       "<div>\n",
       "<style scoped>\n",
       "    .dataframe tbody tr th:only-of-type {\n",
       "        vertical-align: middle;\n",
       "    }\n",
       "\n",
       "    .dataframe tbody tr th {\n",
       "        vertical-align: top;\n",
       "    }\n",
       "\n",
       "    .dataframe thead th {\n",
       "        text-align: right;\n",
       "    }\n",
       "</style>\n",
       "<table border=\"1\" class=\"dataframe\">\n",
       "  <thead>\n",
       "    <tr style=\"text-align: right;\">\n",
       "      <th></th>\n",
       "      <th>precip_sum</th>\n",
       "      <th>temp_max</th>\n",
       "      <th>temp_min</th>\n",
       "    </tr>\n",
       "    <tr>\n",
       "      <th>date</th>\n",
       "      <th></th>\n",
       "      <th></th>\n",
       "      <th></th>\n",
       "    </tr>\n",
       "  </thead>\n",
       "  <tbody>\n",
       "    <tr>\n",
       "      <th>2020-01-01</th>\n",
       "      <td>1.3</td>\n",
       "      <td>4.6</td>\n",
       "      <td>0.1</td>\n",
       "    </tr>\n",
       "    <tr>\n",
       "      <th>2020-01-02</th>\n",
       "      <td>0.0</td>\n",
       "      <td>2.8</td>\n",
       "      <td>NaN</td>\n",
       "    </tr>\n",
       "    <tr>\n",
       "      <th>2020-01-03</th>\n",
       "      <td>0.0</td>\n",
       "      <td>3.5</td>\n",
       "      <td>-2.2</td>\n",
       "    </tr>\n",
       "    <tr>\n",
       "      <th>2020-01-04</th>\n",
       "      <td>0.0</td>\n",
       "      <td>4.1</td>\n",
       "      <td>0.0</td>\n",
       "    </tr>\n",
       "    <tr>\n",
       "      <th>2020-01-05</th>\n",
       "      <td>2.5</td>\n",
       "      <td>2.7</td>\n",
       "      <td>NaN</td>\n",
       "    </tr>\n",
       "    <tr>\n",
       "      <th>...</th>\n",
       "      <td>...</td>\n",
       "      <td>...</td>\n",
       "      <td>...</td>\n",
       "    </tr>\n",
       "    <tr>\n",
       "      <th>2023-07-10</th>\n",
       "      <td>0.0</td>\n",
       "      <td>27.0</td>\n",
       "      <td>13.0</td>\n",
       "    </tr>\n",
       "    <tr>\n",
       "      <th>2023-07-11</th>\n",
       "      <td>0.0</td>\n",
       "      <td>24.7</td>\n",
       "      <td>14.0</td>\n",
       "    </tr>\n",
       "    <tr>\n",
       "      <th>2023-07-12</th>\n",
       "      <td>0.0</td>\n",
       "      <td>28.9</td>\n",
       "      <td>12.7</td>\n",
       "    </tr>\n",
       "    <tr>\n",
       "      <th>2023-07-13</th>\n",
       "      <td>0.0</td>\n",
       "      <td>26.3</td>\n",
       "      <td>18.1</td>\n",
       "    </tr>\n",
       "    <tr>\n",
       "      <th>2023-07-14</th>\n",
       "      <td>3.0</td>\n",
       "      <td>25.7</td>\n",
       "      <td>16.9</td>\n",
       "    </tr>\n",
       "  </tbody>\n",
       "</table>\n",
       "<p>1289 rows × 3 columns</p>\n",
       "</div>"
      ],
      "text/plain": [
       "            precip_sum  temp_max  temp_min\n",
       "date                                      \n",
       "2020-01-01         1.3       4.6       0.1\n",
       "2020-01-02         0.0       2.8       NaN\n",
       "2020-01-03         0.0       3.5      -2.2\n",
       "2020-01-04         0.0       4.1       0.0\n",
       "2020-01-05         2.5       2.7       NaN\n",
       "...                ...       ...       ...\n",
       "2023-07-10         0.0      27.0      13.0\n",
       "2023-07-11         0.0      24.7      14.0\n",
       "2023-07-12         0.0      28.9      12.7\n",
       "2023-07-13         0.0      26.3      18.1\n",
       "2023-07-14         3.0      25.7      16.9\n",
       "\n",
       "[1289 rows x 3 columns]"
      ]
     },
     "execution_count": 4,
     "metadata": {},
     "output_type": "execute_result"
    }
   ],
   "source": [
    "brest_noaa_cleaning.get_combined_dataset()"
   ]
  },
  {
   "cell_type": "code",
   "execution_count": 6,
   "metadata": {},
   "outputs": [
    {
     "name": "stdout",
     "output_type": "stream",
     "text": [
      "The nearest station is 'BOM00033008'\n",
      "Total missing values: 1838\n",
      "Total missing days: 5\n",
      "Filling them using the other stations: PLM00012497\n",
      "\n"
     ]
    },
    {
     "name": "stdout",
     "output_type": "stream",
     "text": [
      "Station 'PLM00012497'\n",
      "Left missing values -> 297\n",
      "Left missing days -> 2\n",
      "\n",
      "There were left 297 missing values and 2 missing days. \n",
      "Now they will be filled data from ERA5 dataset"
     ]
    }
   ],
   "source": [
    "noaa_cleaned_data = brest_noaa_cleaning.get_cleaned_data()"
   ]
  },
  {
   "cell_type": "markdown",
   "metadata": {},
   "source": [
    "## ERA5Service"
   ]
  },
  {
   "cell_type": "code",
   "execution_count": 2,
   "metadata": {},
   "outputs": [
    {
     "data": {
      "text/html": [
       "<div>\n",
       "<style scoped>\n",
       "    .dataframe tbody tr th:only-of-type {\n",
       "        vertical-align: middle;\n",
       "    }\n",
       "\n",
       "    .dataframe tbody tr th {\n",
       "        vertical-align: top;\n",
       "    }\n",
       "\n",
       "    .dataframe thead th {\n",
       "        text-align: right;\n",
       "    }\n",
       "</style>\n",
       "<table border=\"1\" class=\"dataframe\">\n",
       "  <thead>\n",
       "    <tr style=\"text-align: right;\">\n",
       "      <th></th>\n",
       "      <th>precip_sum</th>\n",
       "      <th>temp_max</th>\n",
       "      <th>temp_min</th>\n",
       "      <th>wind_direction</th>\n",
       "      <th>wind_speed</th>\n",
       "      <th>relat_humidity</th>\n",
       "      <th>pressure_level</th>\n",
       "      <th>cloud_cover</th>\n",
       "    </tr>\n",
       "    <tr>\n",
       "      <th>date</th>\n",
       "      <th></th>\n",
       "      <th></th>\n",
       "      <th></th>\n",
       "      <th></th>\n",
       "      <th></th>\n",
       "      <th></th>\n",
       "      <th></th>\n",
       "      <th></th>\n",
       "    </tr>\n",
       "  </thead>\n",
       "  <tbody>\n",
       "    <tr>\n",
       "      <th>2023-07-13</th>\n",
       "      <td>0.1</td>\n",
       "      <td>25.6</td>\n",
       "      <td>24.9</td>\n",
       "      <td>167</td>\n",
       "      <td>20</td>\n",
       "      <td>81</td>\n",
       "      <td>1013</td>\n",
       "      <td>81</td>\n",
       "    </tr>\n",
       "    <tr>\n",
       "      <th>2023-07-14</th>\n",
       "      <td>0.6</td>\n",
       "      <td>25.5</td>\n",
       "      <td>25.0</td>\n",
       "      <td>170</td>\n",
       "      <td>20</td>\n",
       "      <td>83</td>\n",
       "      <td>1013</td>\n",
       "      <td>49</td>\n",
       "    </tr>\n",
       "    <tr>\n",
       "      <th>2023-07-15</th>\n",
       "      <td>0.5</td>\n",
       "      <td>25.6</td>\n",
       "      <td>24.9</td>\n",
       "      <td>181</td>\n",
       "      <td>20</td>\n",
       "      <td>84</td>\n",
       "      <td>1014</td>\n",
       "      <td>70</td>\n",
       "    </tr>\n",
       "    <tr>\n",
       "      <th>2023-07-16</th>\n",
       "      <td>0.0</td>\n",
       "      <td>25.6</td>\n",
       "      <td>24.9</td>\n",
       "      <td>199</td>\n",
       "      <td>6</td>\n",
       "      <td>80</td>\n",
       "      <td>1014</td>\n",
       "      <td>70</td>\n",
       "    </tr>\n",
       "    <tr>\n",
       "      <th>2023-07-17</th>\n",
       "      <td>0.0</td>\n",
       "      <td>25.8</td>\n",
       "      <td>25.2</td>\n",
       "      <td>201</td>\n",
       "      <td>7</td>\n",
       "      <td>79</td>\n",
       "      <td>1014</td>\n",
       "      <td>81</td>\n",
       "    </tr>\n",
       "    <tr>\n",
       "      <th>2023-07-18</th>\n",
       "      <td>0.0</td>\n",
       "      <td>26.1</td>\n",
       "      <td>25.3</td>\n",
       "      <td>215</td>\n",
       "      <td>6</td>\n",
       "      <td>78</td>\n",
       "      <td>1015</td>\n",
       "      <td>60</td>\n",
       "    </tr>\n",
       "    <tr>\n",
       "      <th>2023-07-19</th>\n",
       "      <td>0.0</td>\n",
       "      <td>26.5</td>\n",
       "      <td>25.6</td>\n",
       "      <td>210</td>\n",
       "      <td>7</td>\n",
       "      <td>80</td>\n",
       "      <td>1015</td>\n",
       "      <td>75</td>\n",
       "    </tr>\n",
       "    <tr>\n",
       "      <th>2023-07-20</th>\n",
       "      <td>0.5</td>\n",
       "      <td>26.3</td>\n",
       "      <td>25.4</td>\n",
       "      <td>201</td>\n",
       "      <td>7</td>\n",
       "      <td>81</td>\n",
       "      <td>1015</td>\n",
       "      <td>66</td>\n",
       "    </tr>\n",
       "    <tr>\n",
       "      <th>2023-07-21</th>\n",
       "      <td>0.1</td>\n",
       "      <td>26.4</td>\n",
       "      <td>25.2</td>\n",
       "      <td>198</td>\n",
       "      <td>8</td>\n",
       "      <td>79</td>\n",
       "      <td>1015</td>\n",
       "      <td>66</td>\n",
       "    </tr>\n",
       "    <tr>\n",
       "      <th>2023-07-22</th>\n",
       "      <td>0.1</td>\n",
       "      <td>25.7</td>\n",
       "      <td>24.8</td>\n",
       "      <td>182</td>\n",
       "      <td>8</td>\n",
       "      <td>74</td>\n",
       "      <td>1016</td>\n",
       "      <td>89</td>\n",
       "    </tr>\n",
       "  </tbody>\n",
       "</table>\n",
       "</div>"
      ],
      "text/plain": [
       "            precip_sum  temp_max  temp_min  wind_direction  wind_speed  \\\n",
       "date                                                                     \n",
       "2023-07-13         0.1      25.6      24.9             167          20   \n",
       "2023-07-14         0.6      25.5      25.0             170          20   \n",
       "2023-07-15         0.5      25.6      24.9             181          20   \n",
       "2023-07-16         0.0      25.6      24.9             199           6   \n",
       "2023-07-17         0.0      25.8      25.2             201           7   \n",
       "2023-07-18         0.0      26.1      25.3             215           6   \n",
       "2023-07-19         0.0      26.5      25.6             210           7   \n",
       "2023-07-20         0.5      26.3      25.4             201           7   \n",
       "2023-07-21         0.1      26.4      25.2             198           8   \n",
       "2023-07-22         0.1      25.7      24.8             182           8   \n",
       "\n",
       "            relat_humidity  pressure_level  cloud_cover  \n",
       "date                                                     \n",
       "2023-07-13              81            1013           81  \n",
       "2023-07-14              83            1013           49  \n",
       "2023-07-15              84            1014           70  \n",
       "2023-07-16              80            1014           70  \n",
       "2023-07-17              79            1014           81  \n",
       "2023-07-18              78            1015           60  \n",
       "2023-07-19              80            1015           75  \n",
       "2023-07-20              81            1015           66  \n",
       "2023-07-21              79            1015           66  \n",
       "2023-07-22              74            1016           89  "
      ]
     },
     "execution_count": 2,
     "metadata": {},
     "output_type": "execute_result"
    }
   ],
   "source": [
    "ERA5Service(\n",
    "    loc_coords=(1, 1), data_types=list(ERA5Service.era_data_types.values())\n",
    ").get_era_data().tail(10)"
   ]
  },
  {
   "cell_type": "code",
   "execution_count": 2,
   "metadata": {},
   "outputs": [
    {
     "name": "stdout",
     "output_type": "stream",
     "text": [
      "Initial data type and ERA5 data type into renamed data type\n",
      "PRCP and precipitation_sum are renamed to 'precip_sum'\n",
      "TMAX and temperature_2m_max are renamed to 'temp_max'\n",
      "TMIN and temperature_2m_min are renamed to 'temp_min'\n",
      "RHAV and relativehumidity_2m are renamed to 'relat_humidity'\n",
      "ASTP and pressure_msl are renamed to 'pressure_level'\n",
      "ACSC and cloudcover are renamed to 'cloud_cover'\n",
      "AWDR and winddirection_10m_dominant are renamed to 'wind_direction'\n",
      "AWND and windspeed_10m are renamed to 'wind_speed'\n"
     ]
    }
   ],
   "source": [
    "ERA5Service.show_available_data_types()"
   ]
  },
  {
   "cell_type": "markdown",
   "metadata": {},
   "source": [
    "# ETC"
   ]
  },
  {
   "cell_type": "code",
   "execution_count": 6,
   "metadata": {},
   "outputs": [],
   "source": [
    "from datetime import datetime, timedelta\n",
    "import pandas as pd\n",
    "\n",
    "TIME_FORMAT = r'%Y-%m-%d'"
   ]
  },
  {
   "cell_type": "code",
   "execution_count": 12,
   "metadata": {},
   "outputs": [
    {
     "data": {
      "text/plain": [
       "['Tue 01',\n",
       " 'Wed 02',\n",
       " 'Thu 03',\n",
       " 'Fri 04',\n",
       " 'Sat 05',\n",
       " 'Sun 06',\n",
       " 'Mon 07',\n",
       " 'Tue 08']"
      ]
     },
     "execution_count": 12,
     "metadata": {},
     "output_type": "execute_result"
    }
   ],
   "source": [
    "pd.date_range(\n",
    "    start=datetime.today().strftime(TIME_FORMAT),\n",
    "    end=(datetime.today() + timedelta(days=7)).strftime(TIME_FORMAT),\n",
    "    freq='D'\n",
    ").strftime('%a %d').to_list()"
   ]
  },
  {
   "cell_type": "code",
   "execution_count": 5,
   "metadata": {},
   "outputs": [
    {
     "data": {
      "text/plain": [
       "'Wed 03'"
      ]
     },
     "execution_count": 5,
     "metadata": {},
     "output_type": "execute_result"
    }
   ],
   "source": [
    "datetime.strptime('0001-01-03', r'%Y-%m-%d').strftime(\"%a %d\")"
   ]
  }
 ],
 "metadata": {
  "kernelspec": {
   "display_name": "Python 3",
   "language": "python",
   "name": "python3"
  },
  "language_info": {
   "codemirror_mode": {
    "name": "ipython",
    "version": 3
   },
   "file_extension": ".py",
   "mimetype": "text/x-python",
   "name": "python",
   "nbconvert_exporter": "python",
   "pygments_lexer": "ipython3",
   "version": "3.9.0"
  },
  "orig_nbformat": 4
 },
 "nbformat": 4,
 "nbformat_minor": 2
}
